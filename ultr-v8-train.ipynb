{
  "cells": [
    {
      "cell_type": "code",
      "execution_count": null,
      "id": "378c4584-e62a-4b17-b8a6-d8880d0b2e2f",
      "metadata": {
        "editable": true,
        "jupyter": {
          "source_hidden": true
        },
        "tags": [],
        "id": "378c4584-e62a-4b17-b8a6-d8880d0b2e2f",
        "outputId": "ddc68f91-b98c-4476-bf74-9aa2af88c2bf"
      },
      "outputs": [
        {
          "name": "stdout",
          "output_type": "stream",
          "text": [
            "C:\\Users\\dia-camp\\Downloads\\s8-project-dev\\testing-ultr-pytorch-v8\\testing-pytorch-ultr-v8\n"
          ]
        }
      ],
      "source": [
        "import sys\n",
        "print(sys.prefix)"
      ]
    },
    {
      "cell_type": "markdown",
      "source": [
        "# New Section"
      ],
      "metadata": {
        "id": "14S9MwoT_fle"
      },
      "id": "14S9MwoT_fle"
    },
    {
      "cell_type": "code",
      "execution_count": null,
      "id": "c9669c2e-cc29-4e97-a10d-1c5ce4d75253",
      "metadata": {
        "id": "c9669c2e-cc29-4e97-a10d-1c5ce4d75253",
        "outputId": "1bfb4c21-43c0-41c6-f3bb-bb33ce2bc241"
      },
      "outputs": [
        {
          "data": {
            "text/plain": [
              "True"
            ]
          },
          "execution_count": 5,
          "metadata": {},
          "output_type": "execute_result"
        }
      ],
      "source": [
        "import torch\n",
        "torch.cuda.is_available()"
      ]
    },
    {
      "cell_type": "code",
      "execution_count": null,
      "id": "7570aa32-76cd-48cc-b754-b75cb7451f25",
      "metadata": {
        "id": "7570aa32-76cd-48cc-b754-b75cb7451f25",
        "outputId": "aec2f545-d2a4-4d76-ada5-5a931168fd6e"
      },
      "outputs": [
        {
          "data": {
            "text/plain": [
              "'NVIDIA GeForce RTX 3050 Laptop GPU'"
            ]
          },
          "execution_count": 6,
          "metadata": {},
          "output_type": "execute_result"
        }
      ],
      "source": [
        "torch.cuda.get_device_name(0)"
      ]
    },
    {
      "cell_type": "code",
      "execution_count": null,
      "id": "9b5a781c-1231-46bc-bd65-29330c647ae0",
      "metadata": {
        "id": "9b5a781c-1231-46bc-bd65-29330c647ae0",
        "outputId": "fb7ac890-d33e-47ab-833a-7b3411133d2c"
      },
      "outputs": [
        {
          "data": {
            "text/plain": [
              "0"
            ]
          },
          "execution_count": 7,
          "metadata": {},
          "output_type": "execute_result"
        }
      ],
      "source": [
        "torch.cuda.current_device()"
      ]
    },
    {
      "cell_type": "code",
      "execution_count": null,
      "id": "d8525ea7-4fdd-43db-b2a2-024c59fddbe8",
      "metadata": {
        "id": "d8525ea7-4fdd-43db-b2a2-024c59fddbe8"
      },
      "outputs": [],
      "source": [
        "#Model training using Ultralytics YOLOv8\n",
        "from ultralytics import YOLO"
      ]
    },
    {
      "cell_type": "code",
      "execution_count": null,
      "id": "1f223f6b-ec69-450a-80cd-7666a5590946",
      "metadata": {
        "id": "1f223f6b-ec69-450a-80cd-7666a5590946"
      },
      "outputs": [],
      "source": [
        "# Create a new YOLO model from scratch\n",
        "model = YOLO('yolov8n.yaml')"
      ]
    },
    {
      "cell_type": "code",
      "execution_count": null,
      "id": "aac7cf00-bff5-47a3-8db8-1a8ff3e648d8",
      "metadata": {
        "id": "aac7cf00-bff5-47a3-8db8-1a8ff3e648d8"
      },
      "outputs": [],
      "source": [
        "#log for monitoring\n",
        "load_ext tensorboard\n",
        "tensorboard --logdir runs  # replace with 'runs' directory"
      ]
    },
    {
      "cell_type": "code",
      "execution_count": null,
      "id": "c958fee1-2f32-42d7-8d39-5264840ea9a5",
      "metadata": {
        "id": "c958fee1-2f32-42d7-8d39-5264840ea9a5"
      },
      "outputs": [],
      "source": [
        "# Train the model using the 'coco8.yaml' dataset for 3 epochs\n",
        "results = model.train(data='coco8.yaml', epochs=3, device=0 )"
      ]
    },
    {
      "cell_type": "code",
      "execution_count": null,
      "id": "60b79893-434f-4ca7-baf6-80797db03bc9",
      "metadata": {
        "id": "60b79893-434f-4ca7-baf6-80797db03bc9"
      },
      "outputs": [],
      "source": [
        "model.val()  # It'll automatically evaluate the data you trained."
      ]
    }
  ],
  "metadata": {
    "kernelspec": {
      "display_name": "testing-pytorch-ultr-v8",
      "language": "python",
      "name": "testing-pytorch-ultr-v8"
    },
    "language_info": {
      "codemirror_mode": {
        "name": "ipython",
        "version": 3
      },
      "file_extension": ".py",
      "mimetype": "text/x-python",
      "name": "python",
      "nbconvert_exporter": "python",
      "pygments_lexer": "ipython3",
      "version": "3.10.11"
    },
    "colab": {
      "provenance": []
    }
  },
  "nbformat": 4,
  "nbformat_minor": 5
}